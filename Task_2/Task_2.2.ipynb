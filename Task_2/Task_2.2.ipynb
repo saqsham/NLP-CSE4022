{
 "cells": [
  {
   "cell_type": "code",
   "execution_count": 1,
   "metadata": {},
   "outputs": [],
   "source": [
    "import nltk\n"
   ]
  },
  {
   "cell_type": "code",
   "execution_count": 2,
   "metadata": {},
   "outputs": [],
   "source": [
    "from nltk.corpus import brown"
   ]
  },
  {
   "cell_type": "code",
   "execution_count": 3,
   "metadata": {},
   "outputs": [
    {
     "data": {
      "text/plain": "['adventure',\n 'belles_lettres',\n 'editorial',\n 'fiction',\n 'government',\n 'hobbies',\n 'humor',\n 'learned',\n 'lore',\n 'mystery',\n 'news',\n 'religion',\n 'reviews',\n 'romance',\n 'science_fiction']"
     },
     "execution_count": 3,
     "metadata": {},
     "output_type": "execute_result"
    }
   ],
   "source": [
    "brown.categories()"
   ]
  },
  {
   "cell_type": "code",
   "execution_count": 4,
   "metadata": {},
   "outputs": [
    {
     "data": {
      "text/plain": "['Dan', 'Morgan', 'told', 'himself', 'he', 'would', ...]"
     },
     "execution_count": 4,
     "metadata": {},
     "output_type": "execute_result"
    }
   ],
   "source": [
    "brown.words(categories=\"adventure\")"
   ]
  },
  {
   "cell_type": "code",
   "execution_count": 5,
   "metadata": {},
   "outputs": [
    {
     "data": {
      "text/plain": "['Dan', 'Morgan', 'told']"
     },
     "execution_count": 5,
     "metadata": {},
     "output_type": "execute_result"
    }
   ],
   "source": [
    "brown.words(categories=\"adventure\")[:3]"
   ]
  },
  {
   "cell_type": "code",
   "execution_count": 6,
   "metadata": {},
   "outputs": [
    {
     "data": {
      "text/plain": "['Dan', 'Morgan', 'told', 'himself', 'he', 'would', ...]"
     },
     "execution_count": 6,
     "metadata": {},
     "output_type": "execute_result"
    }
   ],
   "source": [
    "brown.words(categories=\"adventure\")[:100]"
   ]
  },
  {
   "cell_type": "code",
   "execution_count": 7,
   "metadata": {},
   "outputs": [],
   "source": [
    "from nltk.corpus import inaugural\n"
   ]
  },
  {
   "cell_type": "code",
   "execution_count": 8,
   "metadata": {},
   "outputs": [
    {
     "data": {
      "text/plain": "['1789-Washington.txt',\n '1793-Washington.txt',\n '1797-Adams.txt',\n '1801-Jefferson.txt',\n '1805-Jefferson.txt',\n '1809-Madison.txt',\n '1813-Madison.txt',\n '1817-Monroe.txt',\n '1821-Monroe.txt',\n '1825-Adams.txt',\n '1829-Jackson.txt',\n '1833-Jackson.txt',\n '1837-VanBuren.txt',\n '1841-Harrison.txt',\n '1845-Polk.txt',\n '1849-Taylor.txt',\n '1853-Pierce.txt',\n '1857-Buchanan.txt',\n '1861-Lincoln.txt',\n '1865-Lincoln.txt',\n '1869-Grant.txt',\n '1873-Grant.txt',\n '1877-Hayes.txt',\n '1881-Garfield.txt',\n '1885-Cleveland.txt',\n '1889-Harrison.txt',\n '1893-Cleveland.txt',\n '1897-McKinley.txt',\n '1901-McKinley.txt',\n '1905-Roosevelt.txt',\n '1909-Taft.txt',\n '1913-Wilson.txt',\n '1917-Wilson.txt',\n '1921-Harding.txt',\n '1925-Coolidge.txt',\n '1929-Hoover.txt',\n '1933-Roosevelt.txt',\n '1937-Roosevelt.txt',\n '1941-Roosevelt.txt',\n '1945-Roosevelt.txt',\n '1949-Truman.txt',\n '1953-Eisenhower.txt',\n '1957-Eisenhower.txt',\n '1961-Kennedy.txt',\n '1965-Johnson.txt',\n '1969-Nixon.txt',\n '1973-Nixon.txt',\n '1977-Carter.txt',\n '1981-Reagan.txt',\n '1985-Reagan.txt',\n '1989-Bush.txt',\n '1993-Clinton.txt',\n '1997-Clinton.txt',\n '2001-Bush.txt',\n '2005-Bush.txt',\n '2009-Obama.txt',\n '2013-Obama.txt',\n '2017-Trump.txt']"
     },
     "execution_count": 8,
     "metadata": {},
     "output_type": "execute_result"
    }
   ],
   "source": [
    "inaugural.fileids()"
   ]
  },
  {
   "cell_type": "code",
   "execution_count": 9,
   "metadata": {},
   "outputs": [
    {
     "data": {
      "text/plain": "58"
     },
     "execution_count": 9,
     "metadata": {},
     "output_type": "execute_result"
    }
   ],
   "source": [
    "len(inaugural.fileids())"
   ]
  },
  {
   "cell_type": "code",
   "execution_count": 10,
   "metadata": {},
   "outputs": [
    {
     "data": {
      "text/plain": "['Fellow', '-', 'Citizens', 'of', 'the', 'United', ...]"
     },
     "execution_count": 10,
     "metadata": {},
     "output_type": "execute_result"
    }
   ],
   "source": [
    "inaugural.words(fileids=\"1861-Lincoln.txt\")"
   ]
  },
  {
   "cell_type": "code",
   "execution_count": 11,
   "metadata": {},
   "outputs": [
    {
     "data": {
      "text/plain": "['Fellow',\n '-',\n 'Citizens',\n 'of',\n 'the',\n 'United',\n 'States',\n ':',\n 'In',\n 'compliance',\n 'with',\n 'a',\n 'custom',\n 'as',\n 'old',\n 'as',\n 'the',\n 'Government',\n 'itself',\n ',']"
     },
     "execution_count": 11,
     "metadata": {},
     "output_type": "execute_result"
    }
   ],
   "source": [
    "inaugural.words(fileids=\"1861-Lincoln.txt\")[:20]"
   ]
  },
  {
   "cell_type": "code",
   "execution_count": 12,
   "metadata": {},
   "outputs": [
    {
     "data": {
      "text/plain": "['My', 'fellow', 'citizens', ':', 'I', 'stand', 'here', ...]"
     },
     "execution_count": 12,
     "metadata": {},
     "output_type": "execute_result"
    }
   ],
   "source": [
    "inaugural.words(fileids=\"2009-Obama.txt\")"
   ]
  },
  {
   "cell_type": "code",
   "execution_count": 13,
   "metadata": {},
   "outputs": [
    {
     "data": {
      "text/plain": "['My',\n 'fellow',\n 'citizens',\n ':',\n 'I',\n 'stand',\n 'here',\n 'today',\n 'humbled',\n 'by',\n 'the',\n 'task',\n 'before',\n 'us',\n ',',\n 'grateful',\n 'for',\n 'the',\n 'trust',\n 'you']"
     },
     "execution_count": 13,
     "metadata": {},
     "output_type": "execute_result"
    }
   ],
   "source": [
    "inaugural.words(fileids=\"2009-Obama.txt\")[:20]"
   ]
  },
  {
   "cell_type": "code",
   "execution_count": 14,
   "metadata": {},
   "outputs": [
    {
     "name": "stdout",
     "output_type": "stream",
     "text": "*** Introductory Examples for the NLTK Book ***\nLoading text1, ..., text9 and sent1, ..., sent9\nType the name of the text or sentence to view it.\nType: 'texts()' or 'sents()' to list the materials.\ntext1: Moby Dick by Herman Melville 1851\ntext2: Sense and Sensibility by Jane Austen 1811\ntext3: The Book of Genesis\ntext4: Inaugural Address Corpus\ntext5: Chat Corpus\ntext6: Monty Python and the Holy Grail\ntext7: Wall Street Journal\ntext8: Personals Corpus\ntext9: The Man Who Was Thursday by G . K . Chesterton 1908\n"
    }
   ],
   "source": [
    "from nltk.book import *\n"
   ]
  },
  {
   "cell_type": "code",
   "execution_count": 15,
   "metadata": {},
   "outputs": [
    {
     "name": "stdout",
     "output_type": "stream",
     "text": "text1: Moby Dick by Herman Melville 1851\ntext2: Sense and Sensibility by Jane Austen 1811\ntext3: The Book of Genesis\ntext4: Inaugural Address Corpus\ntext5: Chat Corpus\ntext6: Monty Python and the Holy Grail\ntext7: Wall Street Journal\ntext8: Personals Corpus\ntext9: The Man Who Was Thursday by G . K . Chesterton 1908\n"
    }
   ],
   "source": [
    "texts()\n"
   ]
  },
  {
   "cell_type": "code",
   "execution_count": 16,
   "metadata": {},
   "outputs": [],
   "source": [
    "f = FreqDist(text1)\n"
   ]
  },
  {
   "cell_type": "code",
   "execution_count": 17,
   "metadata": {},
   "outputs": [
    {
     "name": "stdout",
     "output_type": "stream",
     "text": "<FreqDist with 19317 samples and 260819 outcomes>\n"
    }
   ],
   "source": [
    "print(f)\n"
   ]
  },
  {
   "cell_type": "code",
   "execution_count": 18,
   "metadata": {},
   "outputs": [
    {
     "data": {
      "text/plain": "[(',', 18713),\n ('the', 13721),\n ('.', 6862),\n ('of', 6536),\n ('and', 6024),\n ('a', 4569),\n ('to', 4542),\n (';', 4072),\n ('in', 3916),\n ('that', 2982)]"
     },
     "execution_count": 18,
     "metadata": {},
     "output_type": "execute_result"
    }
   ],
   "source": [
    "f.most_common(10)\n"
   ]
  },
  {
   "cell_type": "code",
   "execution_count": 19,
   "metadata": {},
   "outputs": [
    {
     "data": {
      "text/plain": "['For',\n 'myself',\n 'and',\n 'for',\n 'our',\n 'Nation',\n ',',\n 'I',\n 'want',\n 'to',\n 'thank',\n 'my',\n 'predecessor',\n 'for',\n 'all',\n 'he',\n 'has',\n 'done',\n 'to',\n 'heal']"
     },
     "execution_count": 19,
     "metadata": {},
     "output_type": "execute_result"
    }
   ],
   "source": [
    "inaugural.words(fileids=\"1977-Carter.txt\")[:20]"
   ]
  }
 ],
 "metadata": {
  "kernelspec": {
   "display_name": "Python 3",
   "language": "python",
   "name": "python3"
  },
  "language_info": {
   "codemirror_mode": {
    "name": "ipython",
    "version": 3
   },
   "file_extension": ".py",
   "mimetype": "text/x-python",
   "name": "python",
   "nbconvert_exporter": "python",
   "pygments_lexer": "ipython3",
   "version": "3.7.5"
  }
 },
 "nbformat": 4,
 "nbformat_minor": 2
}