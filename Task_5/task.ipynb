{
 "cells": [
  {
   "cell_type": "code",
   "execution_count": 1,
   "metadata": {},
   "outputs": [],
   "source": [
    "from nltk.corpus import stopwords\n",
    "\n"
   ]
  },
  {
   "cell_type": "code",
   "execution_count": 2,
   "metadata": {},
   "outputs": [
    {
     "data": {
      "text/plain": [
       "['i',\n",
       " 'me',\n",
       " 'my',\n",
       " 'myself',\n",
       " 'we',\n",
       " 'our',\n",
       " 'ours',\n",
       " 'ourselves',\n",
       " 'you',\n",
       " \"you're\",\n",
       " \"you've\",\n",
       " \"you'll\",\n",
       " \"you'd\",\n",
       " 'your',\n",
       " 'yours',\n",
       " 'yourself',\n",
       " 'yourselves',\n",
       " 'he',\n",
       " 'him',\n",
       " 'his',\n",
       " 'himself',\n",
       " 'she',\n",
       " \"she's\",\n",
       " 'her',\n",
       " 'hers',\n",
       " 'herself',\n",
       " 'it',\n",
       " \"it's\",\n",
       " 'its',\n",
       " 'itself',\n",
       " 'they',\n",
       " 'them',\n",
       " 'their',\n",
       " 'theirs',\n",
       " 'themselves',\n",
       " 'what',\n",
       " 'which',\n",
       " 'who',\n",
       " 'whom',\n",
       " 'this',\n",
       " 'that',\n",
       " \"that'll\",\n",
       " 'these',\n",
       " 'those',\n",
       " 'am',\n",
       " 'is',\n",
       " 'are',\n",
       " 'was',\n",
       " 'were',\n",
       " 'be',\n",
       " 'been',\n",
       " 'being',\n",
       " 'have',\n",
       " 'has',\n",
       " 'had',\n",
       " 'having',\n",
       " 'do',\n",
       " 'does',\n",
       " 'did',\n",
       " 'doing',\n",
       " 'a',\n",
       " 'an',\n",
       " 'the',\n",
       " 'and',\n",
       " 'but',\n",
       " 'if',\n",
       " 'or',\n",
       " 'because',\n",
       " 'as',\n",
       " 'until',\n",
       " 'while',\n",
       " 'of',\n",
       " 'at',\n",
       " 'by',\n",
       " 'for',\n",
       " 'with',\n",
       " 'about',\n",
       " 'against',\n",
       " 'between',\n",
       " 'into',\n",
       " 'through',\n",
       " 'during',\n",
       " 'before',\n",
       " 'after',\n",
       " 'above',\n",
       " 'below',\n",
       " 'to',\n",
       " 'from',\n",
       " 'up',\n",
       " 'down',\n",
       " 'in',\n",
       " 'out',\n",
       " 'on',\n",
       " 'off',\n",
       " 'over',\n",
       " 'under',\n",
       " 'again',\n",
       " 'further',\n",
       " 'then',\n",
       " 'once',\n",
       " 'here',\n",
       " 'there',\n",
       " 'when',\n",
       " 'where',\n",
       " 'why',\n",
       " 'how',\n",
       " 'all',\n",
       " 'any',\n",
       " 'both',\n",
       " 'each',\n",
       " 'few',\n",
       " 'more',\n",
       " 'most',\n",
       " 'other',\n",
       " 'some',\n",
       " 'such',\n",
       " 'no',\n",
       " 'nor',\n",
       " 'not',\n",
       " 'only',\n",
       " 'own',\n",
       " 'same',\n",
       " 'so',\n",
       " 'than',\n",
       " 'too',\n",
       " 'very',\n",
       " 's',\n",
       " 't',\n",
       " 'can',\n",
       " 'will',\n",
       " 'just',\n",
       " 'don',\n",
       " \"don't\",\n",
       " 'should',\n",
       " \"should've\",\n",
       " 'now',\n",
       " 'd',\n",
       " 'll',\n",
       " 'm',\n",
       " 'o',\n",
       " 're',\n",
       " 've',\n",
       " 'y',\n",
       " 'ain',\n",
       " 'aren',\n",
       " \"aren't\",\n",
       " 'couldn',\n",
       " \"couldn't\",\n",
       " 'didn',\n",
       " \"didn't\",\n",
       " 'doesn',\n",
       " \"doesn't\",\n",
       " 'hadn',\n",
       " \"hadn't\",\n",
       " 'hasn',\n",
       " \"hasn't\",\n",
       " 'haven',\n",
       " \"haven't\",\n",
       " 'isn',\n",
       " \"isn't\",\n",
       " 'ma',\n",
       " 'mightn',\n",
       " \"mightn't\",\n",
       " 'mustn',\n",
       " \"mustn't\",\n",
       " 'needn',\n",
       " \"needn't\",\n",
       " 'shan',\n",
       " \"shan't\",\n",
       " 'shouldn',\n",
       " \"shouldn't\",\n",
       " 'wasn',\n",
       " \"wasn't\",\n",
       " 'weren',\n",
       " \"weren't\",\n",
       " 'won',\n",
       " \"won't\",\n",
       " 'wouldn',\n",
       " \"wouldn't\"]"
      ]
     },
     "execution_count": 2,
     "metadata": {},
     "output_type": "execute_result"
    }
   ],
   "source": [
    "stopwords.words('english')\n"
   ]
  },
  {
   "cell_type": "code",
   "execution_count": 3,
   "metadata": {},
   "outputs": [
    {
     "data": {
      "text/plain": [
       "133737"
      ]
     },
     "execution_count": 3,
     "metadata": {},
     "output_type": "execute_result"
    }
   ],
   "source": [
    "import nltk\n",
    "entries = nltk.corpus.cmudict.entries()\n",
    "len(entries)"
   ]
  },
  {
   "cell_type": "code",
   "execution_count": 4,
   "metadata": {},
   "outputs": [
    {
     "name": "stdout",
     "output_type": "stream",
     "text": [
      "[('a', ['AH0']), ('a.', ['EY1']), ('a', ['EY1']), ...]\n",
      "[('a', ['AH0']), ('a.', ['EY1']), ('a', ['EY1']), ...]\n",
      "[('a', ['AH0']), ('a.', ['EY1']), ('a', ['EY1']), ...]\n",
      "[('a', ['AH0']), ('a.', ['EY1']), ('a', ['EY1']), ...]\n",
      "[('a', ['AH0']), ('a.', ['EY1']), ('a', ['EY1']), ...]\n",
      "[('a', ['AH0']), ('a.', ['EY1']), ('a', ['EY1']), ...]\n",
      "[('a', ['AH0']), ('a.', ['EY1']), ('a', ['EY1']), ...]\n",
      "[('a', ['AH0']), ('a.', ['EY1']), ('a', ['EY1']), ...]\n",
      "[('a', ['AH0']), ('a.', ['EY1']), ('a', ['EY1']), ...]\n",
      "[('a', ['AH0']), ('a.', ['EY1']), ('a', ['EY1']), ...]\n",
      "[('a', ['AH0']), ('a.', ['EY1']), ('a', ['EY1']), ...]\n",
      "[('a', ['AH0']), ('a.', ['EY1']), ('a', ['EY1']), ...]\n",
      "[('a', ['AH0']), ('a.', ['EY1']), ('a', ['EY1']), ...]\n",
      "[('a', ['AH0']), ('a.', ['EY1']), ('a', ['EY1']), ...]\n",
      "[('a', ['AH0']), ('a.', ['EY1']), ('a', ['EY1']), ...]\n",
      "[('a', ['AH0']), ('a.', ['EY1']), ('a', ['EY1']), ...]\n",
      "[('a', ['AH0']), ('a.', ['EY1']), ('a', ['EY1']), ...]\n",
      "[('a', ['AH0']), ('a.', ['EY1']), ('a', ['EY1']), ...]\n",
      "[('a', ['AH0']), ('a.', ['EY1']), ('a', ['EY1']), ...]\n",
      "[('a', ['AH0']), ('a.', ['EY1']), ('a', ['EY1']), ...]\n",
      "[('a', ['AH0']), ('a.', ['EY1']), ('a', ['EY1']), ...]\n",
      "[('a', ['AH0']), ('a.', ['EY1']), ('a', ['EY1']), ...]\n",
      "[('a', ['AH0']), ('a.', ['EY1']), ('a', ['EY1']), ...]\n",
      "[('a', ['AH0']), ('a.', ['EY1']), ('a', ['EY1']), ...]\n",
      "[('a', ['AH0']), ('a.', ['EY1']), ('a', ['EY1']), ...]\n"
     ]
    }
   ],
   "source": [
    "for entry in entries[10000:10025]:\n",
    "    print(entries)"
   ]
  },
  {
   "cell_type": "code",
   "execution_count": 5,
   "metadata": {},
   "outputs": [],
   "source": [
    "from nltk.corpus import wordnet as wn\n"
   ]
  },
  {
   "cell_type": "code",
   "execution_count": 6,
   "metadata": {},
   "outputs": [
    {
     "data": {
      "text/plain": [
       "[Synset('car.n.01')]"
      ]
     },
     "execution_count": 6,
     "metadata": {},
     "output_type": "execute_result"
    }
   ],
   "source": [
    "wn.synsets('motorcar')"
   ]
  },
  {
   "cell_type": "code",
   "execution_count": 7,
   "metadata": {},
   "outputs": [
    {
     "name": "stdout",
     "output_type": "stream",
     "text": [
      "a motor vehicle with four wheels; usually propelled by an internal combustion engine\n"
     ]
    }
   ],
   "source": [
    "print(wn.synset('car.n.01').definition())"
   ]
  },
  {
   "cell_type": "code",
   "execution_count": 8,
   "metadata": {},
   "outputs": [
    {
     "name": "stdout",
     "output_type": "stream",
     "text": [
      "he needs a car to get to work\n"
     ]
    }
   ],
   "source": [
    "print(wn.synset('car.n.01').examples()[0])"
   ]
  },
  {
   "cell_type": "code",
   "execution_count": 9,
   "metadata": {},
   "outputs": [
    {
     "data": {
      "text/plain": [
       "[Lemma('car.n.01.car'),\n",
       " Lemma('car.n.01.auto'),\n",
       " Lemma('car.n.01.automobile'),\n",
       " Lemma('car.n.01.machine'),\n",
       " Lemma('car.n.01.motorcar')]"
      ]
     },
     "execution_count": 9,
     "metadata": {},
     "output_type": "execute_result"
    }
   ],
   "source": [
    "wn.synset('car.n.01').lemmas()"
   ]
  },
  {
   "cell_type": "code",
   "execution_count": 10,
   "metadata": {},
   "outputs": [
    {
     "data": {
      "text/plain": [
       "['car', 'auto', 'automobile', 'machine', 'motorcar']"
      ]
     },
     "execution_count": 10,
     "metadata": {},
     "output_type": "execute_result"
    }
   ],
   "source": [
    "wn.synset('car.n.01').lemma_names()"
   ]
  },
  {
   "cell_type": "code",
   "execution_count": 11,
   "metadata": {},
   "outputs": [
    {
     "name": "stdout",
     "output_type": "stream",
     "text": [
      "[('H', 'NN')][('u', 'NN')][('g', 'NN')][('h', 'NN')][('w', 'NN')][('a', 'DT')][('s', 'NN')][('b', 'NN')][('o', 'NN')][('r', 'NN')][('n', 'NN')][('i', 'NN')][('n', 'NN')][('O', 'NN')][('x', 'NN')][('f', 'NN')][('o', 'NN')][('r', 'NN')][('d', 'NN')][(',', ',')][('E', 'NN')][('n', 'NN')][('g', 'NN')][('l', 'NN')][('a', 'DT')][('n', 'NN')][('d', 'NN')][('o', 'NN')][('n', 'NN')][('J', 'NN')][('u', 'NN')][('n', 'NN')][('e', 'NN')][('1', 'CD')][('1', 'CD')][(',', ',')][('1', 'CD')][('9', 'CD')][('5', 'CD')][('9', 'CD')][(',', ',')][('t', 'NN')][('o', 'NN')][('P', 'NN')][('a', 'DT')][('t', 'NN')][('r', 'NN')][('i', 'NN')][('c', 'NNS')][('i', 'NN')][('a', 'DT')][('(', '(')][('L', 'NN')][('a', 'DT')][('i', 'NN')][('d', 'NN')][('l', 'NN')][('a', 'DT')][('w', 'NN')][(')', ')')][('a', 'DT')][('n', 'NN')][('d', 'NN')][('W', 'NN')][('i', 'NN')][('l', 'NN')][('l', 'NN')][('i', 'NN')][('a', 'DT')][('m', 'NN')][('G', 'NN')][('e', 'NN')][('o', 'NN')][('r', 'NN')][('g', 'NN')][('e', 'NN')][('R', 'NN')][('a', 'DT')][('n', 'NN')][('a', 'DT')][('l', 'NN')][('d', 'NN')][('M', 'NN')][('u', 'NN')][('n', 'NN')][('d', 'NN')][('e', 'NN')][('l', 'NN')][('l', 'NN')][('``', '``')][('R', 'NN')][('a', 'DT')][('n', 'NN')][('``', '``')][('L', 'NN')][('a', 'DT')][('u', 'NN')][('r', 'NN')][('i', 'NN')][('e', 'NN')][(',', ',')][('a', 'DT')][('d', 'NN')][('o', 'NN')][('c', 'NNS')][('t', 'NN')][('o', 'NN')][('r', 'NN')][(',', ',')][('b', 'NN')][('o', 'NN')][('t', 'NN')][('h', 'NN')][('o', 'NN')][('f', 'NN')][('S', 'NN')][('c', 'NNS')][('o', 'NN')][('t', 'NN')][('t', 'NN')][('i', 'NN')][('s', 'NN')][('h', 'NN')][('d', 'NN')][('e', 'NN')][('s', 'NN')][('c', 'NNS')][('e', 'NN')][('n', 'NN')][('t', 'NN')][('.', '.')][('H', 'NN')][('e', 'NN')][('w', 'NN')][('a', 'DT')][('s', 'NN')][('e', 'NN')][('d', 'NN')][('u', 'NN')][('c', 'NNS')][('a', 'DT')][('t', 'NN')][('e', 'NN')][('d', 'NN')][('a', 'DT')][('t', 'NN')][('E', 'NN')][('t', 'NN')][('o', 'NN')][('n', 'NN')][('a', 'DT')][('n', 'NN')][('d', 'NN')][('C', 'SYM')][('a', 'DT')][('m', 'NN')][('b', 'NN')][('r', 'NN')][('i', 'NN')][('d', 'NN')][('g', 'NN')][('e', 'NN')][('.', '.')][('S', 'NN')][('o', 'NN')][('n', 'NN')][('o', 'NN')][('f', 'NN')][('a', 'DT')][('n', 'NN')][('O', 'NN')][('l', 'NN')][('y', 'NN')][('m', 'NN')][('p', 'NN')][('i', 'NN')][('c', 'NNS')][('g', 'NN')][('o', 'NN')][('l', 'NN')][('d', 'NN')][('m', 'NN')][('e', 'NN')][('d', 'NN')][('a', 'DT')][('l', 'NN')][('i', 'NN')][('s', 'NN')][('t', 'NN')][('i', 'NN')][('n', 'NN')][('t', 'NN')][('h', 'NN')][('e', 'NN')][('s', 'NN')][('p', 'NN')][('o', 'NN')][('r', 'NN')][('t', 'NN')][(',', ',')][('h', 'NN')][('e', 'NN')][('r', 'NN')][('o', 'NN')][('w', 'NN')][('e', 'NN')][('d', 'NN')][('f', 'NN')][('o', 'NN')][('r', 'NN')][('t', 'NN')][('h', 'NN')][('e', 'NN')][('E', 'NN')][('n', 'NN')][('g', 'NN')][('l', 'NN')][('a', 'DT')][('n', 'NN')][('d', 'NN')][('y', 'NN')][('o', 'NN')][('u', 'NN')][('t', 'NN')][('h', 'NN')][('t', 'NN')][('e', 'NN')][('a', 'DT')][('m', 'NN')][('(', '(')][('1', 'CD')][('9', 'CD')][('7', 'CD')][('7', 'CD')][(')', ')')][('a', 'DT')][('n', 'NN')][('d', 'NN')][('f', 'NN')][('o', 'NN')][('r', 'NN')][('C', 'SYM')][('a', 'DT')][('m', 'NN')][('b', 'NN')][('r', 'NN')][('i', 'NN')][('d', 'NN')][('g', 'NN')][('e', 'NN')][('(', '(')][('1', 'CD')][('9', 'CD')][('8', 'CD')][('0', 'CD')][(')', ')')][('.', '.')][('H', 'NN')][('e', 'NN')][('m', 'NN')][('e', 'NN')][('t', 'NN')][('E', 'NN')][('m', 'NN')][('m', 'NN')][('a', 'DT')][('T', 'NN')][('h', 'NN')][('o', 'NN')][('m', 'NN')][('p', 'NN')][('s', 'NN')][('o', 'NN')][('n', 'NN')][('a', 'DT')][('t', 'NN')][('C', 'SYM')][('a', 'DT')][('m', 'NN')][('b', 'NN')][('r', 'NN')][('i', 'NN')][('d', 'NN')][('g', 'NN')][('e', 'NN')][('i', 'NN')][('n', 'NN')][('1', 'CD')][('9', 'CD')][('7', 'CD')][('8', 'CD')][('w', 'NN')][('h', 'NN')][('e', 'NN')][('n', 'NN')][('b', 'NN')][('o', 'NN')][('t', 'NN')][('h', 'NN')][('j', 'NN')][('o', 'NN')][('i', 'NN')][('n', 'NN')][('e', 'NN')][('d', 'NN')][('``', '``')][('F', 'NN')][('o', 'NN')][('o', 'NN')][('t', 'NN')][('l', 'NN')][('i', 'NN')][('g', 'NN')][('h', 'NN')][('t', 'NN')][('s', 'NN')][('``', '``')][('a', 'DT')][('n', 'NN')][('d', 'NN')][('w', 'NN')][('a', 'DT')][('s', 'NN')][('i', 'NN')][('n', 'NN')][('t', 'NN')][('r', 'NN')][('o', 'NN')][('d', 'NN')][('u', 'NN')][('c', 'NNS')][('e', 'NN')][('d', 'NN')][('t', 'NN')][('o', 'NN')][('S', 'NN')][('t', 'NN')][('e', 'NN')][('p', 'NN')][('h', 'NN')][('e', 'NN')][('n', 'NN')][('F', 'NN')][('r', 'NN')][('y', 'NN')][('b', 'NN')][('y', 'NN')][('E', 'NN')][('m', 'NN')][('m', 'NN')][('a', 'DT')][('i', 'NN')][('n', 'NN')][('1', 'CD')][('9', 'CD')][('8', 'CD')][('0', 'CD')][('.', '.')][('H', 'NN')][('u', 'NN')][('g', 'NN')][('h', 'NN')][('i', 'NN')][('s', 'NN')][('m', 'NN')][('a', 'DT')][('r', 'NN')][('r', 'NN')][('i', 'NN')][('e', 'NN')][('d', 'NN')][('a', 'DT')][('n', 'NN')][('d', 'NN')][('l', 'NN')][('i', 'NN')][('v', 'NN')][('e', 'NN')][('s', 'NN')][('i', 'NN')][('n', 'NN')][('L', 'NN')][('o', 'NN')][('s', 'NN')][('A', 'DT')][('n', 'NN')][('g', 'NN')][('e', 'NN')][('l', 'NN')][('e', 'NN')][('s', 'NN')][('.', '.')][('H', 'NN')][('i', 'NN')][('s', 'NN')][('w', 'NN')][('i', 'NN')][('f', 'NN')][('e', 'NN')][('a', 'DT')][('n', 'NN')][('d', 'NN')][('t', 'NN')][('h', 'NN')][('r', 'NN')][('e', 'NN')][('e', 'NN')][('c', 'NNS')][('h', 'NN')][('i', 'NN')][('l', 'NN')][('d', 'NN')][('r', 'NN')][('e', 'NN')][('n', 'NN')][(',', ',')][('w', 'NN')][('h', 'NN')][('o', 'NN')][('p', 'NN')][('r', 'NN')][('e', 'NN')][('v', 'NN')][('i', 'NN')][('o', 'NN')][('u', 'NN')][('s', 'NN')][('l', 'NN')][('y', 'NN')][('l', 'NN')][('i', 'NN')][('v', 'NN')][('e', 'NN')][('d', 'NN')][('i', 'NN')][('n', 'NN')][('L', 'NN')][('o', 'NN')][('n', 'NN')][('d', 'NN')][('o', 'NN')][('n', 'NN')][(',', ',')][('a', 'DT')][('r', 'NN')][('e', 'NN')][('m', 'NN')][('o', 'NN')][('v', 'NN')][('i', 'NN')][('n', 'NN')][('g', 'NN')][('t', 'NN')][('o', 'NN')][('L', 'NN')][('o', 'NN')][('s', 'NN')][('A', 'DT')][('n', 'NN')][('g', 'NN')][('e', 'NN')][('l', 'NN')][('e', 'NN')][('s', 'NN')][('t', 'NN')][('o', 'NN')][('l', 'NN')][('i', 'NN')][('v', 'NN')][('e', 'NN')][('w', 'NN')][('i', 'NN')][('t', 'NN')][('h', 'NN')][('h', 'NN')][('i', 'NN')][('m', 'NN')][('.', '.')][('B', 'NN')][('e', 'NN')][('s', 'NN')][('i', 'NN')][('d', 'NN')][('e', 'NN')][('s', 'NN')][('a', 'DT')][('c', 'NNS')][('t', 'NN')][('i', 'NN')][('n', 'NN')][('g', 'NN')][('a', 'DT')][('n', 'NN')][('d', 'NN')][('c', 'NNS')][('o', 'NN')][('m', 'NN')][('e', 'NN')][('d', 'NN')][('y', 'NN')][(',', ',')][('h', 'NN')][('e', 'NN')][('h', 'NN')][('a', 'DT')][('s', 'NN')][('w', 'NN')][('r', 'NN')][('i', 'NN')][('t', 'NN')][('t', 'NN')][('e', 'NN')][('n', 'NN')][('t', 'NN')][('h', 'NN')][('e', 'NN')][('b', 'NN')][('e', 'NN')][('s', 'NN')][('t', 'NN')][('-', ':')][('s', 'NN')][('e', 'NN')][('l', 'NN')][('l', 'NN')][('i', 'NN')][('n', 'NN')][('g', 'NN')][('t', 'NN')][('h', 'NN')][('r', 'NN')][('i', 'NN')][('l', 'NN')][('l', 'NN')][('e', 'NN')][('r', 'NN')][('T', 'NN')][('h', 'NN')][('e', 'NN')][('G', 'NN')][('u', 'NN')][('n', 'NN')][('S', 'NN')][('e', 'NN')][('l', 'NN')][('l', 'NN')][('e', 'NN')][('r', 'NN')][('.', '.')][('A', 'DT')][('s', 'NN')][('e', 'NN')][('c', 'NNS')][('o', 'NN')][('n', 'NN')][('d', 'NN')][('n', 'NN')][('o', 'NN')][('v', 'NN')][('e', 'NN')][('l', 'NN')][(',', ',')][('t', 'NN')][('i', 'NN')][('t', 'NN')][('l', 'NN')][('e', 'NN')][('d', 'NN')][('T', 'NN')][('h', 'NN')][('e', 'NN')][('P', 'NN')][('a', 'DT')][('p', 'NN')][('e', 'NN')][('r', 'NN')][('S', 'NN')][('o', 'NN')][('l', 'NN')][('d', 'NN')][('i', 'NN')][('e', 'NN')][('r', 'NN')][(',', ',')][('i', 'NN')][('s', 'NN')][('f', 'NN')][('o', 'NN')][('r', 'NN')][('t', 'NN')][('h', 'NN')][('c', 'NNS')][('o', 'NN')][('m', 'NN')][('i', 'NN')][('n', 'NN')][('g', 'NN')][('.', '.')]"
     ]
    }
   ],
   "source": [
    "import nltk\n",
    "texts = \"\"\"Hugh was born in Oxford, England on June 11, 1959, to Patricia (Laidlaw) and William George Ranald Mundell \"Ran\" Laurie, a doctor, both of Scottish descent. He was educated at Eton and Cambridge. Son of an Olympic gold medalist in the sport, he rowed for the England youth team (1977) and for Cambridge (1980). He met Emma Thompson at Cambridge in 1978 when both joined \"Footlights\" and was introduced to Stephen Fry by Emma in 1980. Hugh is married and lives in Los Angeles. His wife and three children, who previously lived in London, are moving to Los Angeles to live with him. Besides acting and comedy, he has written the best-selling thriller The Gun Seller. A second novel, titled The Paper Soldier, is forthcoming.\"\"\"\n",
    "\n",
    "for text in texts:\n",
    "    ss = nltk.sent_tokenize(text)\n",
    "    for s in ss:\n",
    "        words = nltk.word_tokenize(s)\n",
    "        t = nltk.pos_tag(words)\n",
    "        print(t, end=\"\")"
   ]
  },
  {
   "cell_type": "code",
   "execution_count": 12,
   "metadata": {},
   "outputs": [
    {
     "data": {
      "text/plain": [
       "[':)',\n",
       " 'Breaking',\n",
       " 'News',\n",
       " ':',\n",
       " 'The',\n",
       " 'Fifth',\n",
       " 'Circuit',\n",
       " 'Court',\n",
       " 'of',\n",
       " 'Appeals',\n",
       " 'just',\n",
       " 'reversed',\n",
       " 'a',\n",
       " 'lower',\n",
       " 'court',\n",
       " 'decision',\n",
       " '&',\n",
       " 'gave',\n",
       " 'us',\n",
       " 'the',\n",
       " 'go',\n",
       " 'ahead',\n",
       " 'to',\n",
       " 'build',\n",
       " 'one',\n",
       " 'of',\n",
       " 'the',\n",
       " 'largest',\n",
       " 'sections',\n",
       " 'of',\n",
       " 'the',\n",
       " 'desperately',\n",
       " 'needed',\n",
       " 'Southern',\n",
       " 'Border',\n",
       " 'Wall',\n",
       " ',',\n",
       " 'Four',\n",
       " 'Billion',\n",
       " 'Dollars',\n",
       " '.',\n",
       " 'Entire',\n",
       " 'Wall',\n",
       " 'is',\n",
       " 'under',\n",
       " 'construction',\n",
       " 'or',\n",
       " 'getting',\n",
       " 'ready',\n",
       " 'to',\n",
       " 'start',\n",
       " '!']"
      ]
     },
     "execution_count": 12,
     "metadata": {},
     "output_type": "execute_result"
    }
   ],
   "source": [
    "from nltk.tokenize import TweetTokenizer\n",
    "t = \" :) Breaking News: The Fifth Circuit Court of Appeals just reversed a lower court decision & gave us the go ahead to build one of the largest sections of the desperately needed Southern Border Wall, Four Billion Dollars. Entire Wall is under construction or getting ready to start!\"\n",
    "tw = TweetTokenizer()\n",
    "tw.tokenize(t)"
   ]
  },
  {
   "cell_type": "code",
   "execution_count": 13,
   "metadata": {},
   "outputs": [
    {
     "name": "stdout",
     "output_type": "stream",
     "text": [
      "can: 94; could: 87; may: 93; might: 38; must: 53; will: 389; "
     ]
    }
   ],
   "source": [
    "import nltk\n",
    "from nltk.corpus import brown \n",
    "news_text = brown.words(categories=\"news\")\n",
    "fdist = nltk.FreqDist(w.lower() for w in news_text)\n",
    "modals = ['can', 'could', 'may', 'might', 'must', 'will']\n",
    "for m in modals:\n",
    "    print(m + \":\", fdist[m], end=\"; \")\n"
   ]
  },
  {
   "cell_type": "code",
   "execution_count": null,
   "metadata": {},
   "outputs": [],
   "source": []
  },
  {
   "cell_type": "code",
   "execution_count": null,
   "metadata": {},
   "outputs": [],
   "source": []
  }
 ],
 "metadata": {
  "kernelspec": {
   "display_name": "Python 3",
   "language": "python",
   "name": "python3"
  },
  "language_info": {
   "codemirror_mode": {
    "name": "ipython",
    "version": 3
   },
   "file_extension": ".py",
   "mimetype": "text/x-python",
   "name": "python",
   "nbconvert_exporter": "python",
   "pygments_lexer": "ipython3",
   "version": "3.7.5"
  }
 },
 "nbformat": 4,
 "nbformat_minor": 2
}
